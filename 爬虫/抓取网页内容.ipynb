{
 "cells": [
  {
   "cell_type": "markdown",
   "metadata": {},
   "source": [
    "## 我们的任务 ：抓取网页内容\n",
    "\n",
    "### 1.用户指定url\n",
    "\n",
    "### 2.获取所有的文章的文字"
   ]
  },
  {
   "cell_type": "markdown",
   "metadata": {},
   "source": [
    "urllib的request模块可以非常方便地抓取URL内容，也就是发送一个GET请求到指定的页面，然后返回HTTP的响应\n",
    "\n",
    "Python通过re模块提供对正则表达式的支持"
   ]
  },
  {
   "cell_type": "code",
   "execution_count": 1,
   "metadata": {},
   "outputs": [],
   "source": [
    "from urllib import request\n",
    "import re"
   ]
  },
  {
   "cell_type": "markdown",
   "metadata": {},
   "source": [
    "用户输入指定的url"
   ]
  },
  {
   "cell_type": "code",
   "execution_count": 2,
   "metadata": {},
   "outputs": [],
   "source": [
    "#地址 绑定(编程期间)\n",
    "user_url = \"https://news.sina.com.cn/o/2018-12-25/doc-ihmutuee2352838.shtml\""
   ]
  },
  {
   "cell_type": "code",
   "execution_count": 3,
   "metadata": {},
   "outputs": [],
   "source": [
    "# 地址 由用户指定(使用期间)\n",
    "# print(\"请输入您想查看的url\")\n",
    "# user_url = input()"
   ]
  },
  {
   "cell_type": "markdown",
   "metadata": {},
   "source": [
    "获取网页html信息并转码"
   ]
  },
  {
   "cell_type": "code",
   "execution_count": 4,
   "metadata": {},
   "outputs": [],
   "source": [
    "with request.urlopen(user_url) as f:\n",
    "    data = f.read()\n",
    "data_web = data.decode(\"utf-8\")"
   ]
  },
  {
   "cell_type": "markdown",
   "metadata": {},
   "source": [
    "我们需要url的标题以及文章进行分析。"
   ]
  },
  {
   "cell_type": "markdown",
   "metadata": {},
   "source": [
    "提取title标签的正则表达式 我的匹配代码"
   ]
  },
  {
   "cell_type": "code",
   "execution_count": 5,
   "metadata": {},
   "outputs": [],
   "source": [
    "title = re.findall('<title.*?>(.*?[\\u4e00-\\u9fa5]*?.*?)</title>', data_web)"
   ]
  },
  {
   "cell_type": "code",
   "execution_count": 6,
   "metadata": {},
   "outputs": [
    {
     "data": {
      "text/plain": [
       "['为了华为 英国电信巨头要与情报机构“翻脸”？|英国电信|华为|情报机构_新浪新闻']"
      ]
     },
     "execution_count": 6,
     "metadata": {},
     "output_type": "execute_result"
    }
   ],
   "source": [
    "title"
   ]
  },
  {
   "cell_type": "markdown",
   "metadata": {},
   "source": [
    "提取p标签的正则表达式 我的匹配代码"
   ]
  },
  {
   "cell_type": "code",
   "execution_count": 7,
   "metadata": {},
   "outputs": [],
   "source": [
    "article = re.findall('<p.*?>(.*?[\\u4e00-\\u9fa5]*?.*?)</p>', data_web)"
   ]
  },
  {
   "cell_type": "code",
   "execution_count": 8,
   "metadata": {},
   "outputs": [
    {
     "name": "stdout",
     "output_type": "stream",
     "text": [
      "　　原标题：为了华为，英国<a href=\"https://news.sina.com.cn/c/2018-12-23/doc-ihqhqcir9461236.shtml\" target=\"_blank\" title=\"英国公司顶住政治压力 坚持用华为5G设备\">电信巨头</a>要与情报机构“翻脸”？！\n",
      "　　参考消息网12月25日报道 海外媒体称，正当美澳英日等国政府意图禁止中国科技公司华为的产品之际，英国三家电信企业宣布继续使用华为5G设备，而“3英国”（Three UK）则已和华为达成20亿英镑（约197亿港元）的协议，在英国各地建立5G网络，明年正式营运。英国情报机构负责人指出，英国面对华为5G技术，陷入两难局面。\n",
      "　　<strong>三家英国电信企业选择华为</strong>\n",
      "　　据香港《明报》12月24日综合《金融时报》和彭博社等媒体的报道，英国电信企业O2、Everything Everywhere（EE）、沃达丰（Vodafone）三家公司已经开始测试华为设备，O2的媒体发言人表示，合约早已签妥，正在测试华为的无线设备，随后技术会部署伦敦的基站。O2明年1月试运新一代5G通讯网络，届时在伦敦200多个地点使用华为硬件设备，取代目前诺基亚设备，确保其网络“做好了5G准备”，为公司上市作准备。\n",
      "　　不止O2，英国电信公司（BT）旗下EE，自今年2月开始测试华为5G的设备，沃达丰今年2月亦与华为合作，在西班牙完成全球首个5G通话测试。而香港商人李嘉诚旗下长和电信的英国电信公司“3英国”（Three UK）则与华为签署高达20亿英镑的网络架构合约。根据在线统计数据公司Statista，截至2017年12月31日，英国电信公司（BT）及其旗下EE公司占英国电讯市场28%，O2则为英国第二大电讯企业，占比26%，及后为沃达丰占21%，“3英国”则占市场12%。\n",
      "　　而根据科技网站The Register的报道，“3英国”公司对于以华为作为战略供应商的决心最大，希望通过华为5G设备与技术让通讯功能扩大三至五倍。\n",
      "　　<strong>承认华为是“唯一真正5G供货商”</strong>\n",
      "　　据报道，今年7月以来，美国、澳大利亚、英国、日本、法国等多个政府以“国家安全”为由，禁止或拟禁止华为5G设备与技术。英国政府今年7月开始审查电信基础设施。\n",
      "　　据《联合早报》12月24日的报道透露，BT12月5日宣布在两年内将华为移除出现有的3G和4G网络核心，在未来的5G网络核心技术设施中也不会使用华为设备。\n",
      "　　但该公司承认华为的设备比竞争对手诺基亚、爱立信等更为先进，可“出于公司内部政策”，无法在核心技术上采用华为设备。BT首席网络架构师尼尔·麦克雷（Neil McRae）表示：“华为是目前唯一一家真正的5G供货商”，其他公司仍需要追赶5G技术。\n",
      "　　据《明报》报道，BT高层也表示，已经与华为签好5G测试合同，若政府禁用华为设备与技术，将使5G移动网络技术进入英国的时间推迟9到12个月。\n",
      "　　<strong>华为将投巨资加强网络安全</strong>\n",
      "　　英国海外情报机构军情六处（MI6）处长扬格（Alex Younger）曾表示，英国在是否将华为产品应用在5G网络上，陷入两难选择。他指出，5G技术供货商基本上以华为技术为基础，但英国需要考虑，如何掌控通讯网络的所有权。\n",
      "　　《金融时报》及彭博社引述消息人士指出，华为高层曾在12月初与英国政府通讯总部（GCHQ）国家网络安全中心官员见面，接受一系列技术要求及花费20亿美元（约156亿港元）提升全球系统，解决安全问题。华为也作出符合英国网络安全要求的书面承诺。\n",
      "　　参考消息网记者注意到，12月18日，华为公司确曾表示，将在未来五年内投入20亿美元加强网络安全，在这方面增加更多人员和升级实验室设施。\n",
      "　　说到华为资金投入，12月20日，《华尔街日报》曾报道称，因为风险过高，汇丰、渣打决定不再向华为提供任何新的银行服务或资金。但翌日，华为对此报道做了响应称，目前公司经营稳健，业务运转一切正常。华为在声明中称，华为与全球金融合作伙伴的业务合作在持续进行，“华为重视与包括金融机构在内的所有伙伴的合作关系，也将尽一切努力确保华为与其合作为双方创造价值”。\n",
      "责任编辑：张申 \n",
      "更多猛料！欢迎扫描左方二维码关注新浪新闻官方微信（xinlang-xinwen）\n",
      "Copyright © 1996-2018 SINA Corporation\n",
      "All Rights Reserved  新浪公司 <a href=\"http://corp.sina.com.cn/chn/copyright.html\" target=\"_blank\">版权所有</a> \n"
     ]
    }
   ],
   "source": [
    "for line in article:\n",
    "    print(line)"
   ]
  }
 ],
 "metadata": {
  "kernelspec": {
   "display_name": "Python 3",
   "language": "python",
   "name": "python3"
  },
  "language_info": {
   "codemirror_mode": {
    "name": "ipython",
    "version": 3
   },
   "file_extension": ".py",
   "mimetype": "text/x-python",
   "name": "python",
   "nbconvert_exporter": "python",
   "pygments_lexer": "ipython3",
   "version": "3.6.5"
  }
 },
 "nbformat": 4,
 "nbformat_minor": 2
}
