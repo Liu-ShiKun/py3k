{
 "cells": [
  {
   "cell_type": "markdown",
   "metadata": {},
   "source": [
    "## 我们的任务 ：抓取网页内容\n",
    "\n",
    "### 1.用户指定url\n",
    "\n",
    "### 2.获取所有的文章的文字"
   ]
  },
  {
   "cell_type": "markdown",
   "metadata": {},
   "source": [
    "urllib的request模块可以非常方便地抓取URL内容，也就是发送一个GET请求到指定的页面，然后返回HTTP的响应\n",
    "\n",
    "Python通过re模块提供对正则表达式的支持"
   ]
  },
  {
   "cell_type": "code",
   "execution_count": 1,
   "metadata": {},
   "outputs": [],
   "source": [
    "from urllib import request\n",
    "import re"
   ]
  },
  {
   "cell_type": "markdown",
   "metadata": {},
   "source": [
    "用户输入指定的url"
   ]
  },
  {
   "cell_type": "code",
   "execution_count": 2,
   "metadata": {},
   "outputs": [],
   "source": [
    "#地址 绑定(编程期间)\n",
    "#user_url = \"https://news.sina.com.cn/o/2018-12-25/doc-ihmutuee2352838.shtml\""
   ]
  },
  {
   "cell_type": "code",
   "execution_count": 3,
   "metadata": {},
   "outputs": [
    {
     "name": "stdout",
     "output_type": "stream",
     "text": [
      "请输入您想查看的url\n",
      "http://opinion.people.com.cn/n1/2018/1225/c1003-30485214.html\n"
     ]
    }
   ],
   "source": [
    "#地址 由用户指定(使用期间)\n",
    "print(\"请输入您想查看的url\")\n",
    "user_url = input()"
   ]
  },
  {
   "cell_type": "markdown",
   "metadata": {},
   "source": [
    "获取网页html信息并转码"
   ]
  },
  {
   "cell_type": "markdown",
   "metadata": {},
   "source": [
    "添加头信息，反爬虫策略"
   ]
  },
  {
   "cell_type": "code",
   "execution_count": 4,
   "metadata": {},
   "outputs": [],
   "source": [
    "headers = {'User-Agent':'Mozilla/5.0 (Windows NT 6.1; WOW64; rv:23.0) Gecko/20100101 Firefox/23.0'}\n",
    "req = request.Request(user_url, headers=headers)"
   ]
  },
  {
   "cell_type": "code",
   "execution_count": 5,
   "metadata": {},
   "outputs": [],
   "source": [
    "with request.urlopen(req) as f:\n",
    "    data = f.read()\n",
    "data_web = data.decode(\"gbk\")"
   ]
  },
  {
   "cell_type": "markdown",
   "metadata": {},
   "source": [
    "我们需要url的标题以及文章进行分析。"
   ]
  },
  {
   "cell_type": "markdown",
   "metadata": {},
   "source": [
    "提取title标签的正则表达式 我的匹配代码"
   ]
  },
  {
   "cell_type": "code",
   "execution_count": 6,
   "metadata": {},
   "outputs": [],
   "source": [
    "title = re.findall('<title.*?>(.*?[\\u4e00-\\u9fa5]*?.*?)</title>', data_web)"
   ]
  },
  {
   "cell_type": "code",
   "execution_count": 7,
   "metadata": {},
   "outputs": [
    {
     "name": "stdout",
     "output_type": "stream",
     "text": [
      "正确认识我国发展的重要战略机遇期--观点--人民网 \n"
     ]
    }
   ],
   "source": [
    "for line in title:\n",
    "    print(line)"
   ]
  },
  {
   "cell_type": "markdown",
   "metadata": {},
   "source": [
    "提取p标签的正则表达式 我的匹配代码"
   ]
  },
  {
   "cell_type": "code",
   "execution_count": 8,
   "metadata": {},
   "outputs": [],
   "source": [
    "article = re.findall('<P.*?>(.*?[\\u4e00-\\u9fa5]*?.*?)</P>', data_web)"
   ]
  },
  {
   "cell_type": "code",
   "execution_count": 9,
   "metadata": {},
   "outputs": [
    {
     "name": "stdout",
     "output_type": "stream",
     "text": [
      "　　当今世界面临着百年未有之大变局，国内外形势发生深刻复杂变化，我国发展的重要战略机遇期是否还存在？怎么看我国发展的重要战略机遇期？这是做好改革发展各项工作需要回答的重大问题。\n",
      "　　中央经济工作会议明确指出，我国发展仍处于并将长期处于重要战略机遇期，要善于化危为机、转危为安，紧扣重要战略机遇新内涵，加快经济结构优化升级，提升科技创新能力，深化改革开放，加快绿色发展，参与全球经济治理体系变革，变压力为加快推动经济高质量发展的动力。这为我们更好推动经济社会发展指明了方向、开阔了视野，为我们坚定不移办好自己的事坚定了信心、把握了主动。\n",
      "　　一个国家、一个民族要赢得主动、赢得优势、赢得未来，就必须敏锐发现机遇，紧紧抓住和用好机遇。党的十九大指出，国内外形势正在发生深刻复杂变化，我国发展仍处于重要战略机遇期。这是党中央全面分析形势和任务得出的重要结论。尽管世界大变局充满着风险与挑战，但和平与发展仍然是当今时代主题，我国在解决各种世界性难题中的作用不可替代，经济全球化的历史大势不可逆转，我国在主要科技领域和方向上有着重要一席之地，各国对我国市场等方面的依赖全面上升。正因此，我国发展仍处于并将长期处于重要战略机遇期的基本判断是正确的，时与势在我们一边。\n",
      "　　也必须看到，世界变局中危和机同生并存，克服了危即是机，失去了机即是危。要想抓住和用好机遇，就要准备迎接和战胜挑战。我们不能怕危机，要学会在应对危机的过程中创造机遇，化危为机，转危为安。面对深刻复杂变化的国内外形势，以习近平同志为核心的党中央坚持稳中求进工作总基调，保持战略定力，采取正确策略，在驾驭中国号巨轮劈波斩浪、沿着正确方向前行的进程中创造了新机遇，赋予我国发展重要战略机遇以新的内涵。\n",
      "　　从经济方面看，加快经济结构优化升级带来新机遇，我们完全可以在全球新一轮科技革命和产业变革浪潮中勇立潮头，构建起面向未来的经济结构；提升科技创新能力带来新机遇，我们完全可以在关键核心技术创新上取得重大突破，为我国经济发展增添新的动能和优势；深化改革开放带来新机遇，我们完全可以把改革之路走得更快、开放之门开得更大，以改革开放新突破带来社会生产力大跃升；加快绿色发展带来新机遇，我们完全可以加大生态文明建设力度，推动我国经济可持续发展；参与全球经济治理体系变革带来新机遇，我们完全可以发挥更大作用，推动建设开放型世界经济，为我国经济发展营造更好的外部环境。\n",
      "　　机遇就在我们眼前，稍纵即逝，关键是我们要紧扣重要战略机遇新内涵，坚定不移抓机遇、用机遇。全面用好我国发展的重要战略机遇期，就要坚持辩证思维、化挑战为机遇，变外部压力为加快推动经济高质量发展的动力；保持战略定力、坚定必胜信念，坚持底线思维、做好万全准备，增强忧患意识，牢牢把握战略主动。\n",
      "　　“所当乘者势也，不可失者时也”。正确认识、紧紧抓住、全面用好我国发展的重要战略机遇期，在以习近平同志为核心的党中央坚强领导下，顺势而为，乘势而上，我们就不仅能推动中国号巨轮行稳致远，更将为中华民族赢得光明未来。\n"
     ]
    }
   ],
   "source": [
    "for line in article:\n",
    "    print(line)"
   ]
  }
 ],
 "metadata": {
  "kernelspec": {
   "display_name": "Python 3",
   "language": "python",
   "name": "python3"
  },
  "language_info": {
   "codemirror_mode": {
    "name": "ipython",
    "version": 3
   },
   "file_extension": ".py",
   "mimetype": "text/x-python",
   "name": "python",
   "nbconvert_exporter": "python",
   "pygments_lexer": "ipython3",
   "version": "3.6.5"
  }
 },
 "nbformat": 4,
 "nbformat_minor": 2
}
